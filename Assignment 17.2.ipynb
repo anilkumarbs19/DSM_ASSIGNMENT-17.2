{
 "cells": [
  {
   "cell_type": "code",
   "execution_count": 2,
   "metadata": {},
   "outputs": [
    {
     "name": "stdout",
     "output_type": "stream",
     "text": [
      "The probability of getting a \"D\" exactly 5 times is = 0.0295\n"
     ]
    }
   ],
   "source": [
    "'''\n",
    "Problem Statement 1:\n",
    "\n",
    "A die marked A to E is rolled 50 times. Find the probability of getting a “D” exactly 5 times.\n",
    "\n",
    "'''\n",
    "\n",
    "import math\n",
    "\n",
    "n = 50 \n",
    "\n",
    "x = 5 \n",
    "\n",
    "ps = 1/5 \n",
    "\n",
    "pf = 4/5 \n",
    "\n",
    "px = (math.factorial(n) / (math.factorial(x) * math.factorial(n-x))) * pow(ps, x) * pow(pf, n-x)\n",
    "\n",
    "print('The probability of getting a \"D\" exactly 5 times is =', format(px, '.4f'))"
   ]
  },
  {
   "cell_type": "code",
   "execution_count": null,
   "metadata": {
    "collapsed": true
   },
   "outputs": [],
   "source": []
  }
 ],
 "metadata": {
  "kernelspec": {
   "display_name": "Python 3",
   "language": "python",
   "name": "python3"
  },
  "language_info": {
   "codemirror_mode": {
    "name": "ipython",
    "version": 3
   },
   "file_extension": ".py",
   "mimetype": "text/x-python",
   "name": "python",
   "nbconvert_exporter": "python",
   "pygments_lexer": "ipython3",
   "version": "3.6.3"
  }
 },
 "nbformat": 4,
 "nbformat_minor": 2
}
